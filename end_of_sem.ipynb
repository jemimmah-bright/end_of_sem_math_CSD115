{
 "cells": [
  {
   "cell_type": "markdown",
   "id": "5634b156-4779-4985-bf39-b1421880b2a0",
   "metadata": {},
   "source": [
    "# No 5"
   ]
  },
  {
   "cell_type": "markdown",
   "id": "5e0497fe-4adc-491e-bfa2-99b10dde6663",
   "metadata": {},
   "source": [
    "# 2024/DSC/0031/SS"
   ]
  },
  {
   "cell_type": "code",
   "execution_count": 28,
   "id": "669ac854-ae5b-486e-b1e4-f880f0111916",
   "metadata": {},
   "outputs": [],
   "source": [
    "import numpy as np"
   ]
  },
  {
   "cell_type": "code",
   "execution_count": 29,
   "id": "f62b7ed2-2bc8-4185-b037-7bdc63aaa5aa",
   "metadata": {},
   "outputs": [
    {
     "name": "stdout",
     "output_type": "stream",
     "text": [
      "[[1.  0.2 0.5]\n",
      " [0.2 1.  0.8]\n",
      " [0.5 0.8 1. ]]\n"
     ]
    }
   ],
   "source": [
    "X = np.array ([[1,0.2,0.5],[0.2,1,0.8],[0.5,0.8,1]])\n",
    "print (X)"
   ]
  },
  {
   "cell_type": "markdown",
   "id": "8166a47c-8f2f-4b7e-80ca-dda4fbbc58c5",
   "metadata": {},
   "source": [
    "# (i)"
   ]
  },
  {
   "cell_type": "code",
   "execution_count": 30,
   "id": "c30f518a-082b-4ffc-91ad-8aefaebe157f",
   "metadata": {},
   "outputs": [
    {
     "name": "stdout",
     "output_type": "stream",
     "text": [
      "[[1.  0.2 0.5]\n",
      " [0.2 1.  0.8]\n",
      " [0.5 0.8 1. ]]\n"
     ]
    }
   ],
   "source": [
    "XT = (X.T)\n",
    "print(XT)"
   ]
  },
  {
   "cell_type": "code",
   "execution_count": 31,
   "id": "041e920b-8d56-490b-9bc0-431c1dd6daf3",
   "metadata": {},
   "outputs": [
    {
     "name": "stdout",
     "output_type": "stream",
     "text": [
      "[[1.  0.2 0.5]\n",
      " [0.2 1.  0.8]\n",
      " [0.5 0.8 1. ]]\n"
     ]
    }
   ],
   "source": [
    "XT = np.transpose(X)\n",
    "print(XT)"
   ]
  },
  {
   "cell_type": "markdown",
   "id": "2dfcf6fb-a40b-4e09-b339-fa9b2330b4b9",
   "metadata": {},
   "source": [
    "# (ii)"
   ]
  },
  {
   "cell_type": "code",
   "execution_count": 32,
   "id": "e4c8949e-dbff-4050-9fd0-2f6626ef5f04",
   "metadata": {},
   "outputs": [
    {
     "name": "stdout",
     "output_type": "stream",
     "text": [
      "[[1.  0.2 0.5]\n",
      " [0.2 1.  0.8]\n",
      " [0.5 0.8 1. ]]\n"
     ]
    }
   ],
   "source": [
    "X = np.array ([[1,0.2,0.5],[0.2,1,0.8],[0.5,0.8,1]])\n",
    "print (X)"
   ]
  },
  {
   "cell_type": "code",
   "execution_count": 33,
   "id": "fef44737-0676-470c-85d5-dcc03348e23f",
   "metadata": {},
   "outputs": [
    {
     "name": "stdout",
     "output_type": "stream",
     "text": [
      "0.2299999999999999\n"
     ]
    }
   ],
   "source": [
    "determinant = np.linalg.det(X)\n",
    "print(determinant)"
   ]
  },
  {
   "cell_type": "markdown",
   "id": "40d73666-938e-47d5-8d70-9cd4245e1638",
   "metadata": {},
   "source": [
    "# (iii)"
   ]
  },
  {
   "cell_type": "code",
   "execution_count": 34,
   "id": "7242d799-9e51-4e65-9992-0bc5618f23a3",
   "metadata": {},
   "outputs": [
    {
     "name": "stdout",
     "output_type": "stream",
     "text": [
      "[[1.  0.2 0.5]\n",
      " [0.2 1.  0.8]\n",
      " [0.5 0.8 1. ]]\n"
     ]
    }
   ],
   "source": [
    "X = np.array ([[1,0.2,0.5],[0.2,1,0.8],[0.5,0.8,1]])\n",
    "print (X)"
   ]
  },
  {
   "cell_type": "code",
   "execution_count": 35,
   "id": "217a4b65-cc64-4009-81dd-581969b4c60d",
   "metadata": {},
   "outputs": [
    {
     "name": "stdout",
     "output_type": "stream",
     "text": [
      "SVDResult(U=array([[-0.43721717,  0.85359707, -0.28321933],\n",
      "       [-0.59931898, -0.51133314, -0.61591816],\n",
      "       [-0.67056536, -0.09955128,  0.73514055]]), S=array([2.04100779, 0.82188052, 0.13711169]), Vh=array([[-0.43721717, -0.59931898, -0.67056536],\n",
      "       [ 0.85359707, -0.51133314, -0.09955128],\n",
      "       [-0.28321933, -0.61591816,  0.73514055]]))\n"
     ]
    }
   ],
   "source": [
    "decomposed_matrix = np.linalg.svd(X)\n",
    "print(decomposed_matrix)"
   ]
  },
  {
   "cell_type": "code",
   "execution_count": 36,
   "id": "c424f461-628c-4f04-a062-a40044b70b9b",
   "metadata": {},
   "outputs": [
    {
     "name": "stdout",
     "output_type": "stream",
     "text": [
      "EigResult(eigenvalues=array([2.04100779, 0.82188052, 0.13711169]), eigenvectors=array([[-0.43721717, -0.85359707, -0.28321933],\n",
      "       [-0.59931898,  0.51133314, -0.61591816],\n",
      "       [-0.67056536,  0.09955128,  0.73514055]]))\n"
     ]
    }
   ],
   "source": [
    "decomposed_matrix = np.linalg.eig(X)\n",
    "print(decomposed_matrix)"
   ]
  },
  {
   "cell_type": "markdown",
   "id": "1d2c0f7d-6a7c-4896-91c0-080580e62b29",
   "metadata": {},
   "source": [
    "# (iv)"
   ]
  },
  {
   "cell_type": "code",
   "execution_count": 37,
   "id": "2935edbd-8976-4e36-bec8-93b4652f8021",
   "metadata": {},
   "outputs": [
    {
     "name": "stdout",
     "output_type": "stream",
     "text": [
      "[[1.  0.2 0.5]\n",
      " [0.2 1.  0.8]\n",
      " [0.5 0.8 1. ]]\n"
     ]
    }
   ],
   "source": [
    "X = np.array ([[1,0.2,0.5],[0.2,1,0.8],[0.5,0.8,1]])\n",
    "print (X)"
   ]
  },
  {
   "cell_type": "code",
   "execution_count": 38,
   "id": "920a17d5-43bf-48b2-a674-afbbd03f7523",
   "metadata": {},
   "outputs": [
    {
     "name": "stdout",
     "output_type": "stream",
     "text": [
      "EigResult(eigenvalues=array([2.04100779, 0.82188052, 0.13711169]), eigenvectors=array([[-0.43721717, -0.85359707, -0.28321933],\n",
      "       [-0.59931898,  0.51133314, -0.61591816],\n",
      "       [-0.67056536,  0.09955128,  0.73514055]]))\n"
     ]
    }
   ],
   "source": [
    "transformed_matrix = np.linalg.eig(X)\n",
    "print(transformed_matrix)"
   ]
  },
  {
   "cell_type": "markdown",
   "id": "2490b72f-a302-4d37-a202-97dc03f54205",
   "metadata": {},
   "source": [
    "# No 6"
   ]
  },
  {
   "cell_type": "markdown",
   "id": "c1836d74-7ff9-454a-9dd2-8b0e58b85d13",
   "metadata": {},
   "source": [
    "# (i)"
   ]
  },
  {
   "cell_type": "code",
   "execution_count": 39,
   "id": "d4501c94-3680-4976-9d2a-aaa78bbb5fda",
   "metadata": {},
   "outputs": [],
   "source": [
    "# average = 5"
   ]
  },
  {
   "cell_type": "code",
   "execution_count": 43,
   "id": "b72c73d1-34f0-4ff4-bfe0-74cb5a1aebfa",
   "metadata": {},
   "outputs": [],
   "source": [
    "from numpy import random"
   ]
  },
  {
   "cell_type": "code",
   "execution_count": 62,
   "id": "c33a0efe-b001-401b-b65b-7060dd25feba",
   "metadata": {},
   "outputs": [
    {
     "name": "stdout",
     "output_type": "stream",
     "text": [
      "[ 3  6  8  4  7  3  5  2  5  6  6  3  7  7  6  6  2  5  5  5  7  5  6  1\n",
      "  5  3  6  3  8  5  4  6 11  7  7  6  7  6  2  4  0  3  6  3  8  3  3  1\n",
      "  3  3  4  6  5  3  4  8  9  2  7  6  4  5  1  3  7  3  3  6  7  7  3  2\n",
      "  6  6  6  4  6  5  6  2  4  6  1  6  4  3  5  5  4  4  8  5  8  6  6  0\n",
      "  5 11  2  3  3  4  4  4  5  4  4  4  3  1  5  4  6  8  4  5  6  6  1  5\n",
      "  3  7  4  4  4  4  9  7  5  2 12  5  6  3 12  6  2  6  3  5  3  8  4  7\n",
      "  5  6  2  2  5  7  8  6  4  5  7  7  4  8  5  5  3  6  1  5  2  6  7  6\n",
      "  8  7  6  7  9  5  5  7  5  6  8  5  6  3  3  7  4 10  6  4  3  4  4  5\n",
      "  6  6  6  7  5  5  5  5  4  4  7  6  7  8  2  8  2  9  7  3  4  6  3  6\n",
      "  7  4  4  7  6  5  2  7  4  4  6  7  9  5  9  3  7  4  2  2  5  3  3  3\n",
      "  2 14  5  8  4  5  4  8  4  6  7  4  9  5  7  5  3  3  4  6  2  7  3  4\n",
      "  3  7  2  6  5  5  1  5  3 10  2  4  4  9  6  5  6  3 10  6 12  6  4  4\n",
      "  8  4  3  8  4  3  7  8  5  5  3  7  3  5  5  6  3  5  5  2  8  4  6  5\n",
      "  4  5  8  5  3  9  7  5  3  3  4  5  6  6  7  7  6  6  8  5  2  5  9  6\n",
      "  4  4  7  4  5  3  4  4  3  5  3 10  5  5  7  1  4  8  5  7  7  5  9  6\n",
      "  3  8  4  6  2  4  8  6  4  8  5  7  9  6  2  8  6  2  5  4  8  5  5  6\n",
      "  4  5  6 10  3  3  4  0  7  7  6  3  7  7  5  8  1  7  5 11  5  9  4  4\n",
      "  5  3  5  4  3 12  4  4  1  3  5  4  4  5  2  8  8  1 11  2  4  3  5  9\n",
      "  8  4  4  8  5  4 10 10  8  8  3  9 10  8  6  6  6  4  5  2  7  2  8  4\n",
      "  8  5  9  2  3  9  5  9  4  7 10  3  4  4  3  6  2  7  4  9  1  3  5  3\n",
      "  3  5  7  4  4  3  2  8  5  8 10  5  4  4  7  2  5  9  4  4  5  6  7  7\n",
      "  7  5  2  3  2  4  6 11  3  5  3  8  4  6  4  5  7  1  5  5  6  4  3  5\n",
      "  4  6 12  6  6  5  2  3  7  6  6  5  7  5  6  5  6  3  5  2  5  6  2  3\n",
      "  3  2  4  5 10  7  6  4  3  9  5  7  5  5  8  9  4  2  8  8  6  6  8  6\n",
      "  3  4  4  4  4  3  8  4  9  5  6  5  4  1  8  3  7  5  3  5  2  4  7  6\n",
      "  7  7  6  4  6  3  2  3  1  6  3  3  6  8  6 11  9  2  6  1  6  2  4  6\n",
      "  5  1  5  6  6  4  5  5  4  6  1  8  7  8  3  3  3  4  7  4  4  4  3  6\n",
      " 11  5  5  3  6  4  3  9  6  3  4  4  6  6  4  5  7  7  5  3  2  7  7  6\n",
      "  8  4  2  6  5  7  5  0  5  5  7  5  7  3  6 11  4  4  4  2  5  3  5  2\n",
      "  2  6  4  8  7  2  2  4  5  9  4  4  5  7  8  6  5  3 10  2  2  6  7  3\n",
      "  6  4  4  2  4  6  5  8 10  5  7  3  4  7  5  4  6  2  7  3  7  4  5  3\n",
      "  5  3  4  3  3  5  4  1  7  6  8  4  4  4  0  5  5  5  2  6  3  6  3  5\n",
      "  3  4  4  7  5  7  8  2  7  3  1  5  5  5  2  4  4  7  6  7 10  2  3  5\n",
      "  1  4  5  3  3  7  6  5  7  6  6  6  4  9  4  1  5  4 10  2  5  7  4  5\n",
      "  7  6  7  9  5  7  1  6  5  6  8  5  4  9  7  5  6  2  5  2  4  5  6  3\n",
      "  8  6  3  6  4  2  4 10  7  2  2  3  5  6  2  4  6  3  7  3  7  3  3  5\n",
      "  0  5  3 10  6  2  5  1  5  3  6  5  4  4  2  3  3  4  9  2  2  4  5  6\n",
      "  4  2  5  8  8  4  4  6  5  3  6  3  7  6  5  5  3  6  8  3 10  6 14  3\n",
      "  6  8  6  3  6  3  1  4  6  5  9 10  8  3 10  5  2  7  7 10  6  8  4  1\n",
      "  6  8  4  5  6  9  3  2  1  8  5 10  0  3  5  4  4  7  2  3  7  7  5  6\n",
      "  7  2  9  6  4  6 11  6  9  5  4  7  4  3 12  6  4  7  3  4  1  8  3  1\n",
      "  9  6 10  3  7  8  4  7  4  3  0  1  8  3  5 10]\n"
     ]
    }
   ],
   "source": [
    "posisson_distribution_data =random.poisson(lam = 5, size = 1000)\n",
    "print(posisson_distribution_data)"
   ]
  },
  {
   "cell_type": "markdown",
   "id": "76ad5bf9-fbd3-48c7-82f1-a654e51c0e91",
   "metadata": {},
   "source": [
    "# (ii)"
   ]
  },
  {
   "cell_type": "code",
   "execution_count": 67,
   "id": "904ac48b-aabf-4b0e-802d-cdc848dc0230",
   "metadata": {},
   "outputs": [
    {
     "name": "stdout",
     "output_type": "stream",
     "text": [
      "5.034\n"
     ]
    }
   ],
   "source": [
    "Poisson_data_mean = posisson_distribution_data.mean ()\n",
    "print(Poisson_data_mean)"
   ]
  },
  {
   "cell_type": "markdown",
   "id": "29359ad0-9ede-4159-a30c-913f8d3b517a",
   "metadata": {},
   "source": [
    "# (ii)"
   ]
  },
  {
   "cell_type": "code",
   "execution_count": 68,
   "id": "f6798ac9-f325-4cc9-878e-0dd368a9cbcf",
   "metadata": {},
   "outputs": [],
   "source": [
    "import seaborn as sns"
   ]
  },
  {
   "cell_type": "code",
   "execution_count": 69,
   "id": "73cf53fe-d1c3-4d48-8c93-a58175a5f5b4",
   "metadata": {},
   "outputs": [],
   "source": [
    "import matplotlib.pyplot as plt"
   ]
  },
  {
   "cell_type": "code",
   "execution_count": 72,
   "id": "fc19e99b-771d-4e5b-a63c-79aa77981f65",
   "metadata": {},
   "outputs": [
    {
     "data": {
      "image/png": "[encoded data removed]",
      "text/plain": [
       "<Figure size 640x480 with 1 Axes>"
      ]
     },
     "metadata": {},
     "output_type": "display_data"
    }
   ],
   "source": [
    "poisson_data = random.poisson(lam = 5, size = 1000)\n",
    "sns.histplot(posisson_distribution_data , bins = 10, color = \"green\", kde = False)\n",
    "plt.title(\"visualisation of poisson distribution data\")\n",
    "plt.xlabel(\"mean\")\n",
    "plt.ylabel(\"Varience\")\n",
    "plt.show()"
   ]
  },
  {
   "cell_type": "code",
   "execution_count": null,
   "id": "3792e17f-5665-425a-989a-c5be7925f6be",
   "metadata": {},
   "outputs": [],
   "source": []
  },
  {
   "cell_type": "code",
   "execution_count": null,
   "id": "63c1139a-c6ef-425a-bef7-102fbdcb6aef",
   "metadata": {},
   "outputs": [],
   "source": []
  },
  {
   "cell_type": "code",
   "execution_count": null,
   "id": "f3f465ec-77fa-48ba-955c-b08f39cf36f0",
   "metadata": {},
   "outputs": [],
   "source": []
  }
 ],
 "metadata": {
  "kernelspec": {
   "display_name": "Python 3 (ipykernel)",
   "language": "python",
   "name": "python3"
  },
  "language_info": {
   "codemirror_mode": {
    "name": "ipython",
    "version": 3
   },
   "file_extension": ".py",
   "mimetype": "text/x-python",
   "name": "python",
   "nbconvert_exporter": "python",
   "pygments_lexer": "ipython3",
   "version": "3.12.6"
  }
 },
 "nbformat": 4,
 "nbformat_minor": 5
}
